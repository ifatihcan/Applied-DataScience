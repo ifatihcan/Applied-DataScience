{
  "nbformat": 4,
  "nbformat_minor": 0,
  "metadata": {
    "colab": {
      "provenance": []
    },
    "kernelspec": {
      "name": "python3",
      "display_name": "Python 3"
    },
    "language_info": {
      "name": "python"
    }
  },
  "cells": [
    {
      "cell_type": "markdown",
      "source": [
        "## Prerequisite Code"
      ],
      "metadata": {
        "id": "1NApcFUYjX8g"
      }
    },
    {
      "cell_type": "code",
      "source": [
        "import pandas as pd\n",
        "from sklearn.model_selection import train_test_split\n",
        "from sklearn.pipeline import Pipeline\n",
        "from sklearn.feature_extraction.text import CountVectorizer, TfidfTransformer, TfidfVectorizer\n",
        "from sklearn.linear_model import LogisticRegression\n",
        "from sklearn.naive_bayes import MultinomialNB, ComplementNB\n",
        "from sklearn.tree import DecisionTreeClassifier\n",
        "from sklearn.ensemble import RandomForestClassifier, AdaBoostClassifier\n",
        "from sklearn.neural_network import MLPClassifier\n",
        "from sklearn.svm import SVC\n",
        "from sklearn.metrics import classification_report, recall_score, precision_score, f1_score, roc_curve, auc, precision_recall_curve"
      ],
      "metadata": {
        "id": "6_VVawXTjbJO"
      },
      "execution_count": null,
      "outputs": []
    },
    {
      "cell_type": "markdown",
      "source": [
        "If the 'clothing_revs.csv' file is in your Google Drive, run the code cell below to mount your Google Drive for use."
      ],
      "metadata": {
        "id": "6QOH0IvnbeZF"
      }
    },
    {
      "cell_type": "markdown",
      "source": [
        "\n",
        "\n",
        "---\n",
        "\n"
      ],
      "metadata": {
        "id": "dd2WmJKtn_z3"
      }
    },
    {
      "cell_type": "markdown",
      "source": [
        "## Questions:\n",
        "\n",
        "1. (a) (1) Use the 'clothing_revs.csv' file to create a data frame named reviews. View the first 5 observations in the review data frame.\n"
      ],
      "metadata": {
        "id": "pirkUREjEHAe"
      }
    },
    {
      "cell_type": "code",
      "metadata": {
        "id": "_cSFtMtMsn6x",
        "colab": {
          "base_uri": "https://localhost:8080/",
          "height": 206
        },
        "outputId": "5840efcf-79e8-4686-fdda-71f785e43f1f"
      },
      "source": [
        "reviews = pd.read_csv('clothing_revs.csv')\n",
        "reviews.head()"
      ],
      "execution_count": null,
      "outputs": [
        {
          "output_type": "execute_result",
          "data": {
            "text/plain": [
              "   Clothing ID  Age                    Title  \\\n",
              "0          767   33                      NaN   \n",
              "1         1080   34                      NaN   \n",
              "2         1077   60  Some major design flaws   \n",
              "3         1049   50         My favorite buy!   \n",
              "4          847   47         Flattering shirt   \n",
              "\n",
              "                                         Review Text  Rating  Recommended IND  \\\n",
              "0  Absolutely wonderful - silky and sexy and comf...       4                1   \n",
              "1  Love this dress!  it's sooo pretty.  i happene...       5                1   \n",
              "2  I had such high hopes for this dress and reall...       3                0   \n",
              "3  I love, love, love this jumpsuit. it's fun, fl...       5                1   \n",
              "4  This shirt is very flattering to all due to th...       5                1   \n",
              "\n",
              "   Positive Feedback Count   Division Name Department Name Class Name  \n",
              "0                        0       Initmates        Intimate  Intimates  \n",
              "1                        4         General         Dresses    Dresses  \n",
              "2                        0         General         Dresses    Dresses  \n",
              "3                        0  General Petite         Bottoms      Pants  \n",
              "4                        6         General            Tops    Blouses  "
            ],
            "text/html": [
              "\n",
              "  <div id=\"df-4f060522-ad62-4fc2-9e0b-9f006bea06dc\" class=\"colab-df-container\">\n",
              "    <div>\n",
              "<style scoped>\n",
              "    .dataframe tbody tr th:only-of-type {\n",
              "        vertical-align: middle;\n",
              "    }\n",
              "\n",
              "    .dataframe tbody tr th {\n",
              "        vertical-align: top;\n",
              "    }\n",
              "\n",
              "    .dataframe thead th {\n",
              "        text-align: right;\n",
              "    }\n",
              "</style>\n",
              "<table border=\"1\" class=\"dataframe\">\n",
              "  <thead>\n",
              "    <tr style=\"text-align: right;\">\n",
              "      <th></th>\n",
              "      <th>Clothing ID</th>\n",
              "      <th>Age</th>\n",
              "      <th>Title</th>\n",
              "      <th>Review Text</th>\n",
              "      <th>Rating</th>\n",
              "      <th>Recommended IND</th>\n",
              "      <th>Positive Feedback Count</th>\n",
              "      <th>Division Name</th>\n",
              "      <th>Department Name</th>\n",
              "      <th>Class Name</th>\n",
              "    </tr>\n",
              "  </thead>\n",
              "  <tbody>\n",
              "    <tr>\n",
              "      <th>0</th>\n",
              "      <td>767</td>\n",
              "      <td>33</td>\n",
              "      <td>NaN</td>\n",
              "      <td>Absolutely wonderful - silky and sexy and comf...</td>\n",
              "      <td>4</td>\n",
              "      <td>1</td>\n",
              "      <td>0</td>\n",
              "      <td>Initmates</td>\n",
              "      <td>Intimate</td>\n",
              "      <td>Intimates</td>\n",
              "    </tr>\n",
              "    <tr>\n",
              "      <th>1</th>\n",
              "      <td>1080</td>\n",
              "      <td>34</td>\n",
              "      <td>NaN</td>\n",
              "      <td>Love this dress!  it's sooo pretty.  i happene...</td>\n",
              "      <td>5</td>\n",
              "      <td>1</td>\n",
              "      <td>4</td>\n",
              "      <td>General</td>\n",
              "      <td>Dresses</td>\n",
              "      <td>Dresses</td>\n",
              "    </tr>\n",
              "    <tr>\n",
              "      <th>2</th>\n",
              "      <td>1077</td>\n",
              "      <td>60</td>\n",
              "      <td>Some major design flaws</td>\n",
              "      <td>I had such high hopes for this dress and reall...</td>\n",
              "      <td>3</td>\n",
              "      <td>0</td>\n",
              "      <td>0</td>\n",
              "      <td>General</td>\n",
              "      <td>Dresses</td>\n",
              "      <td>Dresses</td>\n",
              "    </tr>\n",
              "    <tr>\n",
              "      <th>3</th>\n",
              "      <td>1049</td>\n",
              "      <td>50</td>\n",
              "      <td>My favorite buy!</td>\n",
              "      <td>I love, love, love this jumpsuit. it's fun, fl...</td>\n",
              "      <td>5</td>\n",
              "      <td>1</td>\n",
              "      <td>0</td>\n",
              "      <td>General Petite</td>\n",
              "      <td>Bottoms</td>\n",
              "      <td>Pants</td>\n",
              "    </tr>\n",
              "    <tr>\n",
              "      <th>4</th>\n",
              "      <td>847</td>\n",
              "      <td>47</td>\n",
              "      <td>Flattering shirt</td>\n",
              "      <td>This shirt is very flattering to all due to th...</td>\n",
              "      <td>5</td>\n",
              "      <td>1</td>\n",
              "      <td>6</td>\n",
              "      <td>General</td>\n",
              "      <td>Tops</td>\n",
              "      <td>Blouses</td>\n",
              "    </tr>\n",
              "  </tbody>\n",
              "</table>\n",
              "</div>\n",
              "    <div class=\"colab-df-buttons\">\n",
              "\n",
              "  <div class=\"colab-df-container\">\n",
              "    <button class=\"colab-df-convert\" onclick=\"convertToInteractive('df-4f060522-ad62-4fc2-9e0b-9f006bea06dc')\"\n",
              "            title=\"Convert this dataframe to an interactive table.\"\n",
              "            style=\"display:none;\">\n",
              "\n",
              "  <svg xmlns=\"http://www.w3.org/2000/svg\" height=\"24px\" viewBox=\"0 -960 960 960\">\n",
              "    <path d=\"M120-120v-720h720v720H120Zm60-500h600v-160H180v160Zm220 220h160v-160H400v160Zm0 220h160v-160H400v160ZM180-400h160v-160H180v160Zm440 0h160v-160H620v160ZM180-180h160v-160H180v160Zm440 0h160v-160H620v160Z\"/>\n",
              "  </svg>\n",
              "    </button>\n",
              "\n",
              "  <style>\n",
              "    .colab-df-container {\n",
              "      display:flex;\n",
              "      gap: 12px;\n",
              "    }\n",
              "\n",
              "    .colab-df-convert {\n",
              "      background-color: #E8F0FE;\n",
              "      border: none;\n",
              "      border-radius: 50%;\n",
              "      cursor: pointer;\n",
              "      display: none;\n",
              "      fill: #1967D2;\n",
              "      height: 32px;\n",
              "      padding: 0 0 0 0;\n",
              "      width: 32px;\n",
              "    }\n",
              "\n",
              "    .colab-df-convert:hover {\n",
              "      background-color: #E2EBFA;\n",
              "      box-shadow: 0px 1px 2px rgba(60, 64, 67, 0.3), 0px 1px 3px 1px rgba(60, 64, 67, 0.15);\n",
              "      fill: #174EA6;\n",
              "    }\n",
              "\n",
              "    .colab-df-buttons div {\n",
              "      margin-bottom: 4px;\n",
              "    }\n",
              "\n",
              "    [theme=dark] .colab-df-convert {\n",
              "      background-color: #3B4455;\n",
              "      fill: #D2E3FC;\n",
              "    }\n",
              "\n",
              "    [theme=dark] .colab-df-convert:hover {\n",
              "      background-color: #434B5C;\n",
              "      box-shadow: 0px 1px 3px 1px rgba(0, 0, 0, 0.15);\n",
              "      filter: drop-shadow(0px 1px 2px rgba(0, 0, 0, 0.3));\n",
              "      fill: #FFFFFF;\n",
              "    }\n",
              "  </style>\n",
              "\n",
              "    <script>\n",
              "      const buttonEl =\n",
              "        document.querySelector('#df-4f060522-ad62-4fc2-9e0b-9f006bea06dc button.colab-df-convert');\n",
              "      buttonEl.style.display =\n",
              "        google.colab.kernel.accessAllowed ? 'block' : 'none';\n",
              "\n",
              "      async function convertToInteractive(key) {\n",
              "        const element = document.querySelector('#df-4f060522-ad62-4fc2-9e0b-9f006bea06dc');\n",
              "        const dataTable =\n",
              "          await google.colab.kernel.invokeFunction('convertToInteractive',\n",
              "                                                    [key], {});\n",
              "        if (!dataTable) return;\n",
              "\n",
              "        const docLinkHtml = 'Like what you see? Visit the ' +\n",
              "          '<a target=\"_blank\" href=https://colab.research.google.com/notebooks/data_table.ipynb>data table notebook</a>'\n",
              "          + ' to learn more about interactive tables.';\n",
              "        element.innerHTML = '';\n",
              "        dataTable['output_type'] = 'display_data';\n",
              "        await google.colab.output.renderOutput(dataTable, element);\n",
              "        const docLink = document.createElement('div');\n",
              "        docLink.innerHTML = docLinkHtml;\n",
              "        element.appendChild(docLink);\n",
              "      }\n",
              "    </script>\n",
              "  </div>\n",
              "\n",
              "\n",
              "<div id=\"df-50c36e16-0755-477e-92bb-806be6f5ebb1\">\n",
              "  <button class=\"colab-df-quickchart\" onclick=\"quickchart('df-50c36e16-0755-477e-92bb-806be6f5ebb1')\"\n",
              "            title=\"Suggest charts\"\n",
              "            style=\"display:none;\">\n",
              "\n",
              "<svg xmlns=\"http://www.w3.org/2000/svg\" height=\"24px\"viewBox=\"0 0 24 24\"\n",
              "     width=\"24px\">\n",
              "    <g>\n",
              "        <path d=\"M19 3H5c-1.1 0-2 .9-2 2v14c0 1.1.9 2 2 2h14c1.1 0 2-.9 2-2V5c0-1.1-.9-2-2-2zM9 17H7v-7h2v7zm4 0h-2V7h2v10zm4 0h-2v-4h2v4z\"/>\n",
              "    </g>\n",
              "</svg>\n",
              "  </button>\n",
              "\n",
              "<style>\n",
              "  .colab-df-quickchart {\n",
              "      --bg-color: #E8F0FE;\n",
              "      --fill-color: #1967D2;\n",
              "      --hover-bg-color: #E2EBFA;\n",
              "      --hover-fill-color: #174EA6;\n",
              "      --disabled-fill-color: #AAA;\n",
              "      --disabled-bg-color: #DDD;\n",
              "  }\n",
              "\n",
              "  [theme=dark] .colab-df-quickchart {\n",
              "      --bg-color: #3B4455;\n",
              "      --fill-color: #D2E3FC;\n",
              "      --hover-bg-color: #434B5C;\n",
              "      --hover-fill-color: #FFFFFF;\n",
              "      --disabled-bg-color: #3B4455;\n",
              "      --disabled-fill-color: #666;\n",
              "  }\n",
              "\n",
              "  .colab-df-quickchart {\n",
              "    background-color: var(--bg-color);\n",
              "    border: none;\n",
              "    border-radius: 50%;\n",
              "    cursor: pointer;\n",
              "    display: none;\n",
              "    fill: var(--fill-color);\n",
              "    height: 32px;\n",
              "    padding: 0;\n",
              "    width: 32px;\n",
              "  }\n",
              "\n",
              "  .colab-df-quickchart:hover {\n",
              "    background-color: var(--hover-bg-color);\n",
              "    box-shadow: 0 1px 2px rgba(60, 64, 67, 0.3), 0 1px 3px 1px rgba(60, 64, 67, 0.15);\n",
              "    fill: var(--button-hover-fill-color);\n",
              "  }\n",
              "\n",
              "  .colab-df-quickchart-complete:disabled,\n",
              "  .colab-df-quickchart-complete:disabled:hover {\n",
              "    background-color: var(--disabled-bg-color);\n",
              "    fill: var(--disabled-fill-color);\n",
              "    box-shadow: none;\n",
              "  }\n",
              "\n",
              "  .colab-df-spinner {\n",
              "    border: 2px solid var(--fill-color);\n",
              "    border-color: transparent;\n",
              "    border-bottom-color: var(--fill-color);\n",
              "    animation:\n",
              "      spin 1s steps(1) infinite;\n",
              "  }\n",
              "\n",
              "  @keyframes spin {\n",
              "    0% {\n",
              "      border-color: transparent;\n",
              "      border-bottom-color: var(--fill-color);\n",
              "      border-left-color: var(--fill-color);\n",
              "    }\n",
              "    20% {\n",
              "      border-color: transparent;\n",
              "      border-left-color: var(--fill-color);\n",
              "      border-top-color: var(--fill-color);\n",
              "    }\n",
              "    30% {\n",
              "      border-color: transparent;\n",
              "      border-left-color: var(--fill-color);\n",
              "      border-top-color: var(--fill-color);\n",
              "      border-right-color: var(--fill-color);\n",
              "    }\n",
              "    40% {\n",
              "      border-color: transparent;\n",
              "      border-right-color: var(--fill-color);\n",
              "      border-top-color: var(--fill-color);\n",
              "    }\n",
              "    60% {\n",
              "      border-color: transparent;\n",
              "      border-right-color: var(--fill-color);\n",
              "    }\n",
              "    80% {\n",
              "      border-color: transparent;\n",
              "      border-right-color: var(--fill-color);\n",
              "      border-bottom-color: var(--fill-color);\n",
              "    }\n",
              "    90% {\n",
              "      border-color: transparent;\n",
              "      border-bottom-color: var(--fill-color);\n",
              "    }\n",
              "  }\n",
              "</style>\n",
              "\n",
              "  <script>\n",
              "    async function quickchart(key) {\n",
              "      const quickchartButtonEl =\n",
              "        document.querySelector('#' + key + ' button');\n",
              "      quickchartButtonEl.disabled = true;  // To prevent multiple clicks.\n",
              "      quickchartButtonEl.classList.add('colab-df-spinner');\n",
              "      try {\n",
              "        const charts = await google.colab.kernel.invokeFunction(\n",
              "            'suggestCharts', [key], {});\n",
              "      } catch (error) {\n",
              "        console.error('Error during call to suggestCharts:', error);\n",
              "      }\n",
              "      quickchartButtonEl.classList.remove('colab-df-spinner');\n",
              "      quickchartButtonEl.classList.add('colab-df-quickchart-complete');\n",
              "    }\n",
              "    (() => {\n",
              "      let quickchartButtonEl =\n",
              "        document.querySelector('#df-50c36e16-0755-477e-92bb-806be6f5ebb1 button');\n",
              "      quickchartButtonEl.style.display =\n",
              "        google.colab.kernel.accessAllowed ? 'block' : 'none';\n",
              "    })();\n",
              "  </script>\n",
              "</div>\n",
              "\n",
              "    </div>\n",
              "  </div>\n"
            ],
            "application/vnd.google.colaboratory.intrinsic+json": {
              "type": "dataframe",
              "variable_name": "reviews",
              "summary": "{\n  \"name\": \"reviews\",\n  \"rows\": 5000,\n  \"fields\": [\n    {\n      \"column\": \"Clothing ID\",\n      \"properties\": {\n        \"dtype\": \"number\",\n        \"std\": 198,\n        \"min\": 2,\n        \"max\": 1204,\n        \"num_unique_values\": 401,\n        \"samples\": [\n          843,\n          972,\n          1133\n        ],\n        \"semantic_type\": \"\",\n        \"description\": \"\"\n      }\n    },\n    {\n      \"column\": \"Age\",\n      \"properties\": {\n        \"dtype\": \"number\",\n        \"std\": 12,\n        \"min\": 19,\n        \"max\": 93,\n        \"num_unique_values\": 68,\n        \"samples\": [\n          42,\n          21,\n          47\n        ],\n        \"semantic_type\": \"\",\n        \"description\": \"\"\n      }\n    },\n    {\n      \"column\": \"Title\",\n      \"properties\": {\n        \"dtype\": \"string\",\n        \"num_unique_values\": 3427,\n        \"samples\": [\n          \"Super soft and comfortable\",\n          \"Nope\",\n          \"Perfer beige over pink\"\n        ],\n        \"semantic_type\": \"\",\n        \"description\": \"\"\n      }\n    },\n    {\n      \"column\": \"Review Text\",\n      \"properties\": {\n        \"dtype\": \"string\",\n        \"num_unique_values\": 4821,\n        \"samples\": [\n          \"These jeans are beautiful. as the other reviewers have noted...they run very large...like 2 sizes, even then they are very stretchy. the embroidery is dark blue (looks black on screen)....lovely pair of jeans. if they had other colors i would by them!\",\n          \"This dress was not what i had hoped! from the online pictures, i had high hopes, but the fit was really wonky and the material seemed cheap. the arm holes were too big and made the dress seem more like a bathing suit cover up than a classy summer dress. needless to say, it's going back!\",\n          \"Purchased in the light grey and was so excited, i wore it the very next day. the back detailing and pocket make it more unique than a regular tee and the fabric is slightly heavy (in a good way) so it hangs beautifully. easily can be dressed up or down. new favorite tee!\"\n        ],\n        \"semantic_type\": \"\",\n        \"description\": \"\"\n      }\n    },\n    {\n      \"column\": \"Rating\",\n      \"properties\": {\n        \"dtype\": \"number\",\n        \"std\": 1,\n        \"min\": 1,\n        \"max\": 5,\n        \"num_unique_values\": 5,\n        \"samples\": [\n          5,\n          1,\n          3\n        ],\n        \"semantic_type\": \"\",\n        \"description\": \"\"\n      }\n    },\n    {\n      \"column\": \"Recommended IND\",\n      \"properties\": {\n        \"dtype\": \"number\",\n        \"std\": 0,\n        \"min\": 0,\n        \"max\": 1,\n        \"num_unique_values\": 2,\n        \"samples\": [\n          0,\n          1\n        ],\n        \"semantic_type\": \"\",\n        \"description\": \"\"\n      }\n    },\n    {\n      \"column\": \"Positive Feedback Count\",\n      \"properties\": {\n        \"dtype\": \"number\",\n        \"std\": 6,\n        \"min\": 0,\n        \"max\": 117,\n        \"num_unique_values\": 60,\n        \"samples\": [\n          0,\n          2\n        ],\n        \"semantic_type\": \"\",\n        \"description\": \"\"\n      }\n    },\n    {\n      \"column\": \"Division Name\",\n      \"properties\": {\n        \"dtype\": \"category\",\n        \"num_unique_values\": 3,\n        \"samples\": [\n          \"Initmates\",\n          \"General\"\n        ],\n        \"semantic_type\": \"\",\n        \"description\": \"\"\n      }\n    },\n    {\n      \"column\": \"Department Name\",\n      \"properties\": {\n        \"dtype\": \"category\",\n        \"num_unique_values\": 6,\n        \"samples\": [\n          \"Intimate\",\n          \"Dresses\"\n        ],\n        \"semantic_type\": \"\",\n        \"description\": \"\"\n      }\n    },\n    {\n      \"column\": \"Class Name\",\n      \"properties\": {\n        \"dtype\": \"category\",\n        \"num_unique_values\": 19,\n        \"samples\": [\n          \"Intimates\",\n          \"Outerwear\"\n        ],\n        \"semantic_type\": \"\",\n        \"description\": \"\"\n      }\n    }\n  ]\n}"
            }
          },
          "metadata": {},
          "execution_count": 4
        }
      ]
    },
    {
      "cell_type": "markdown",
      "source": [
        "1. (b) (1) View the dataframe information, to evaluate variable types and missingness. If there are any missing values in the Review_Text column, remove the observation(s) from the dataframe row-wise."
      ],
      "metadata": {
        "id": "q8Ijc76LthCE"
      }
    },
    {
      "cell_type": "code",
      "source": [
        "reviews.info()"
      ],
      "metadata": {
        "id": "dGCCTrSlt8UN",
        "colab": {
          "base_uri": "https://localhost:8080/"
        },
        "outputId": "094a707b-1463-42ee-8969-f9f413ef33e2"
      },
      "execution_count": null,
      "outputs": [
        {
          "output_type": "stream",
          "name": "stdout",
          "text": [
            "<class 'pandas.core.frame.DataFrame'>\n",
            "RangeIndex: 5000 entries, 0 to 4999\n",
            "Data columns (total 10 columns):\n",
            " #   Column                   Non-Null Count  Dtype \n",
            "---  ------                   --------------  ----- \n",
            " 0   Clothing ID              5000 non-null   int64 \n",
            " 1   Age                      5000 non-null   int64 \n",
            " 2   Title                    4159 non-null   object\n",
            " 3   Review Text              4821 non-null   object\n",
            " 4   Rating                   5000 non-null   int64 \n",
            " 5   Recommended IND          5000 non-null   int64 \n",
            " 6   Positive Feedback Count  5000 non-null   int64 \n",
            " 7   Division Name            5000 non-null   object\n",
            " 8   Department Name          5000 non-null   object\n",
            " 9   Class Name               5000 non-null   object\n",
            "dtypes: int64(5), object(5)\n",
            "memory usage: 390.8+ KB\n"
          ]
        }
      ]
    },
    {
      "cell_type": "code",
      "source": [
        "reviews = reviews.dropna(subset=['Review Text'])\n",
        "print(f\"Number of missing values: {missing_count}\")"
      ],
      "metadata": {
        "colab": {
          "base_uri": "https://localhost:8080/"
        },
        "id": "IQ_LXicptckr",
        "outputId": "3ad81fca-4352-4105-bdbc-ee4069c423bd"
      },
      "execution_count": null,
      "outputs": [
        {
          "output_type": "stream",
          "name": "stdout",
          "text": [
            "Number of missing values: 0\n"
          ]
        }
      ]
    },
    {
      "cell_type": "markdown",
      "source": [
        "1. (c) (1) The Rating variable takes on values from 1-5. Create a column named sentiment that converts rating values of 1-3 to 0 and 4-5 to 1. Then, plot the sentiment variable to view the distribution of negative and positive reviews."
      ],
      "metadata": {
        "id": "RmpC8PlJcfhN"
      }
    },
    {
      "cell_type": "code",
      "source": [
        "reviews['sentiment'] = reviews['Rating'].replace({1: 0, 2: 0, 3: 0, 4: 1, 5: 1})\n",
        "reviews.sentiment.hist()"
      ],
      "metadata": {
        "id": "viFx7noGxzcp",
        "colab": {
          "base_uri": "https://localhost:8080/",
          "height": 447
        },
        "outputId": "d9be0910-7515-4382-8496-d67eccdc4a1a"
      },
      "execution_count": null,
      "outputs": [
        {
          "output_type": "execute_result",
          "data": {
            "text/plain": [
              "<Axes: >"
            ]
          },
          "metadata": {},
          "execution_count": 15
        },
        {
          "output_type": "display_data",
          "data": {
            "text/plain": [
              "<Figure size 640x480 with 1 Axes>"
            ],
            "image/png": "[encoded data removed]"
          },
          "metadata": {}
        }
      ]
    },
    {
      "cell_type": "markdown",
      "source": [
        "<hr>\n",
        "<br>\n",
        "\n",
        "2. (2) Create the train and test sets. Split the data using a 75/25 split ratio and initialize a random seed (`random_state`) of 321 for reproducibility."
      ],
      "metadata": {
        "id": "FfEn54QJuGUM"
      }
    },
    {
      "cell_type": "code",
      "source": [
        "X = reviews['Review Text']\n",
        "y = reviews['sentiment']\n",
        "X_train, X_test, y_train, y_test = train_test_split(X, y, test_size=0.25, random_state=321)"
      ],
      "metadata": {
        "id": "1HnfqIUPvAgz"
      },
      "execution_count": null,
      "outputs": []
    },
    {
      "cell_type": "markdown",
      "source": [
        "<hr>\n",
        "<br>\n",
        "\n",
        "3. (a) (5) Define and build a pipeline for classification analysis to predict the rating sentiment.  Use the following methods in your analysis: Complement Naive Bayes, Logistic Regression, Support Vector Machines, Decision Tree, AdaBoost, Random Forest, and Multilayer Perceptron (MLP/ANN).\n",
        "\n",
        "The pipeline should do the following on the training data for each classification model:\n",
        "\n",
        "-preprocess and tokenize the review text, removing stop words and setting the minimum document frequency to 5 (`min_df = 5`)\n",
        "\n",
        "-transform the tokenized text into a TF-IDF-weighted Document Term Matrix\n",
        "\n",
        "-train the classifcation model\n",
        "\n",
        "Obtain and print performance information for each model."
      ],
      "metadata": {
        "id": "0yJpQLLBvFws"
      }
    },
    {
      "cell_type": "code",
      "source": [
        "names = [\"Complement Naive Bayes\", \"Logistic Regression\", \"SVM\", \"Decision Tree\", \"AdaBoost\", \"Random Forest\", \"Multiplelayer Perceptron\"]\n",
        "\n",
        "# Define the correponding list of classifiers, set parameters where needed\n",
        "\n",
        "classifiers = [ComplementNB(), LogisticRegression(),\n",
        "               SVC(probability=True),\n",
        "               DecisionTreeClassifier(max_depth=5),\n",
        "               AdaBoostClassifier(),\n",
        "               RandomForestClassifier(max_depth=5, n_estimators=10),\n",
        "               MLPClassifier(alpha=1, max_iter=1000),\n",
        "               ]\n",
        "\n",
        "# Iterate through the list of models\n",
        "# Execute the pipeline (TFIDF Vectorizer + model) for each\n",
        "# Calculate the print out the metrics for each model\n",
        "\n",
        "for name, clf in zip(names, classifiers):\n",
        "  clf_pipe = Pipeline([\n",
        "                    ('tfidf', TfidfVectorizer(stop_words='english', min_df=5)),\n",
        "                    ('classifier', clf),\n",
        "                    ])\n",
        "\n",
        "  clf_pipe.fit(X_train,y_train)\n",
        "\n",
        "  pred = clf_pipe.predict(X_test)\n",
        "  pred_prob = clf_pipe.predict_proba(X_test)[:, 1]\n",
        "\n",
        "  fpr, tpr, thresholds = roc_curve(y_test, pred_prob)\n",
        "  precision, recall, thresholds_pr = precision_recall_curve(y_test, pred)\n",
        "\n",
        "  print('\\n\\n', name, '\\n\\n')\n",
        "  print(classification_report(y_test, pred))\n",
        "  print('ROC AUC: ', auc(fpr, tpr))\n",
        "  print('Precision/Recall AUC: ', auc(precision, recall))\n",
        "  print('\\n\\n')"
      ],
      "metadata": {
        "id": "5Q3fnlcmv3AL",
        "colab": {
          "base_uri": "https://localhost:8080/"
        },
        "outputId": "88beac64-71ba-4452-d9d8-06948eaa2ce9"
      },
      "execution_count": null,
      "outputs": [
        {
          "output_type": "stream",
          "name": "stdout",
          "text": [
            "\n",
            "\n",
            " Complement Naive Bayes \n",
            "\n",
            "\n",
            "              precision    recall  f1-score   support\n",
            "\n",
            "           0       0.64      0.79      0.70       280\n",
            "           1       0.93      0.86      0.90       926\n",
            "\n",
            "    accuracy                           0.85      1206\n",
            "   macro avg       0.78      0.82      0.80      1206\n",
            "weighted avg       0.86      0.85      0.85      1206\n",
            "\n",
            "ROC AUC:  0.9164609688367789\n",
            "Precision/Recall AUC:  0.18149299878293668\n",
            "\n",
            "\n",
            "\n",
            "\n",
            "\n",
            " Logistic Regression \n",
            "\n",
            "\n",
            "              precision    recall  f1-score   support\n",
            "\n",
            "           0       0.88      0.42      0.57       280\n",
            "           1       0.85      0.98      0.91       926\n",
            "\n",
            "    accuracy                           0.85      1206\n",
            "   macro avg       0.86      0.70      0.74      1206\n",
            "weighted avg       0.86      0.85      0.83      1206\n",
            "\n",
            "ROC AUC:  0.9243636223387843\n",
            "Precision/Recall AUC:  0.15480765332886917\n",
            "\n",
            "\n",
            "\n",
            "\n",
            "\n",
            " SVM \n",
            "\n",
            "\n",
            "              precision    recall  f1-score   support\n",
            "\n",
            "           0       0.84      0.48      0.61       280\n",
            "           1       0.86      0.97      0.91       926\n",
            "\n",
            "    accuracy                           0.86      1206\n",
            "   macro avg       0.85      0.73      0.76      1206\n",
            "weighted avg       0.86      0.86      0.84      1206\n",
            "\n",
            "ROC AUC:  0.924814871953101\n",
            "Precision/Recall AUC:  0.15972672986651926\n",
            "\n",
            "\n",
            "\n",
            "\n",
            "\n",
            " Decision Tree \n",
            "\n",
            "\n",
            "              precision    recall  f1-score   support\n",
            "\n",
            "           0       0.66      0.30      0.41       280\n",
            "           1       0.82      0.95      0.88       926\n",
            "\n",
            "    accuracy                           0.80      1206\n",
            "   macro avg       0.74      0.62      0.64      1206\n",
            "weighted avg       0.78      0.80      0.77      1206\n",
            "\n",
            "ROC AUC:  0.6406356062943536\n",
            "Precision/Recall AUC:  0.13557815374770021\n",
            "\n",
            "\n",
            "\n"
          ]
        },
        {
          "output_type": "stream",
          "name": "stderr",
          "text": [
            "/usr/local/lib/python3.10/dist-packages/sklearn/ensemble/_weight_boosting.py:527: FutureWarning: The SAMME.R algorithm (the default) is deprecated and will be removed in 1.6. Use the SAMME algorithm to circumvent this warning.\n",
            "  warnings.warn(\n"
          ]
        },
        {
          "output_type": "stream",
          "name": "stdout",
          "text": [
            "\n",
            "\n",
            " AdaBoost \n",
            "\n",
            "\n",
            "              precision    recall  f1-score   support\n",
            "\n",
            "           0       0.69      0.50      0.58       280\n",
            "           1       0.86      0.93      0.90       926\n",
            "\n",
            "    accuracy                           0.83      1206\n",
            "   macro avg       0.78      0.72      0.74      1206\n",
            "weighted avg       0.82      0.83      0.82      1206\n",
            "\n",
            "ROC AUC:  0.8587627275532244\n",
            "Precision/Recall AUC:  0.15444579869354205\n",
            "\n",
            "\n",
            "\n",
            "\n",
            "\n",
            " Random Forest \n",
            "\n",
            "\n",
            "              precision    recall  f1-score   support\n",
            "\n",
            "           0       0.00      0.00      0.00       280\n",
            "           1       0.77      1.00      0.87       926\n",
            "\n",
            "    accuracy                           0.77      1206\n",
            "   macro avg       0.38      0.50      0.43      1206\n",
            "weighted avg       0.59      0.77      0.67      1206\n",
            "\n",
            "ROC AUC:  0.7856448626966985\n",
            "Precision/Recall AUC:  0.11608623548922059\n",
            "\n",
            "\n",
            "\n"
          ]
        },
        {
          "output_type": "stream",
          "name": "stderr",
          "text": [
            "/usr/local/lib/python3.10/dist-packages/sklearn/metrics/_classification.py:1531: UndefinedMetricWarning: Precision is ill-defined and being set to 0.0 in labels with no predicted samples. Use `zero_division` parameter to control this behavior.\n",
            "  _warn_prf(average, modifier, f\"{metric.capitalize()} is\", len(result))\n",
            "/usr/local/lib/python3.10/dist-packages/sklearn/metrics/_classification.py:1531: UndefinedMetricWarning: Precision is ill-defined and being set to 0.0 in labels with no predicted samples. Use `zero_division` parameter to control this behavior.\n",
            "  _warn_prf(average, modifier, f\"{metric.capitalize()} is\", len(result))\n",
            "/usr/local/lib/python3.10/dist-packages/sklearn/metrics/_classification.py:1531: UndefinedMetricWarning: Precision is ill-defined and being set to 0.0 in labels with no predicted samples. Use `zero_division` parameter to control this behavior.\n",
            "  _warn_prf(average, modifier, f\"{metric.capitalize()} is\", len(result))\n"
          ]
        },
        {
          "output_type": "stream",
          "name": "stdout",
          "text": [
            "\n",
            "\n",
            " Multiplelayer Perceptron \n",
            "\n",
            "\n",
            "              precision    recall  f1-score   support\n",
            "\n",
            "           0       0.90      0.24      0.37       280\n",
            "           1       0.81      0.99      0.89       926\n",
            "\n",
            "    accuracy                           0.82      1206\n",
            "   macro avg       0.86      0.61      0.63      1206\n",
            "weighted avg       0.83      0.82      0.77      1206\n",
            "\n",
            "ROC AUC:  0.9210043196544277\n",
            "Precision/Recall AUC:  0.13685538819999885\n",
            "\n",
            "\n",
            "\n"
          ]
        }
      ]
    },
    {
      "cell_type": "markdown",
      "source": [
        "3. (b) (2.5) Based on your output and the business case, which model should Macy's use to predict customer sentiment? Why? Explain."
      ],
      "metadata": {
        "id": "Z_s7jaM1wmkZ"
      }
    },
    {
      "cell_type": "markdown",
      "source": [
        "Based on our model output's it looks like the best model that we can use is SVM. When we check the metrics it has better for ROC compared to Logistic Regreggsion and others. Also the F-1 score is better for predicting negative reviews. If we compare the all metrics SVM performed better."
      ],
      "metadata": {
        "id": "uuqLedVwUZge"
      }
    },
    {
      "cell_type": "markdown",
      "source": [
        "\n",
        "\n",
        "---\n",
        "\n",
        "<br>\n",
        "\n",
        "4. (a) (5) Many classification models (Decision Trees, Random Forest, Logistic Regression, Support Vector Machines) can accept class weights, which can be used to correct for class imbalance when training classification models. Balanced class weights assign a weight to each class level of the target variable that is inversely proportional to the class frequencies. Assuming your target variable in your training data is named y_train, balanced class weights will assign weights using the following formula: `len(y_train)/(len(np.unique(y_train)) * np.bincount(y_train))`.\n",
        "Create another pipeline, this time including the argument `class_weight = 'balanced'` for the models that allow class weights.\n",
        "\n",
        "The pipeline should do the following on the training data for each classification model:\n",
        "\n",
        "-preprocess and tokenize the review text, removing stop words and setting the minimum document frequency to 5 (`min_df = 5`)\n",
        "\n",
        "-transform the tokenized text into a TF-IDF-weighted Document Term Matrix\n",
        "\n",
        "-train the classifcation model\n",
        "\n",
        "Obtain and print performance information for each model."
      ],
      "metadata": {
        "id": "PzXk7L--EUn8"
      }
    },
    {
      "cell_type": "code",
      "source": [
        "import numpy as np\n",
        "\n",
        "# Calculate balanced class weights explicitly based on the provided formula\n",
        "class_weights = len(y_train) / (len(np.unique(y_train)) * np.bincount(y_train))\n",
        "print(f\"Calculated Class Weights: {class_weights}\")\n",
        "\n",
        "# List the models that support class weights\n",
        "names = [\"Logistic Regression\", \"SVM\", \"Decision Tree\", \"Random Forest\"]\n",
        "\n",
        "# Define the corresponding list of classifiers with class weights\n",
        "classifiers = [LogisticRegression(class_weight='balanced'),\n",
        "               SVC(probability=True, class_weight='balanced'),\n",
        "               DecisionTreeClassifier(max_depth=5, class_weight='balanced'),\n",
        "               RandomForestClassifier(max_depth=5, n_estimators=10, class_weight='balanced')]\n",
        "\n",
        "# Iterate through the list of models\n",
        "# Execute the pipeline (TFIDF Vectorizer + model) for each\n",
        "# Calculate and print out the metrics for each model\n",
        "\n",
        "for name, clf in zip(names, classifiers):\n",
        "  clf_pipe = Pipeline([\n",
        "                    ('tfidf', TfidfVectorizer(stop_words='english', min_df=5)),\n",
        "                    ('classifier', clf),\n",
        "                    ])\n",
        "\n",
        "  clf_pipe.fit(X_train,y_train)\n",
        "\n",
        "  pred = clf_pipe.predict(X_test)\n",
        "  pred_prob = clf_pipe.predict_proba(X_test)[:, 1]\n",
        "\n",
        "  fpr, tpr, thresholds = roc_curve(y_test, pred_prob)\n",
        "  precision, recall, thresholds_pr = precision_recall_curve(y_test, pred)\n",
        "\n",
        "  print('\\n\\n', name, '\\n\\n')\n",
        "  print(classification_report(y_test, pred))\n",
        "  print('ROC AUC: ', auc(fpr, tpr))\n",
        "  print('Precision/Recall AUC: ', auc(precision, recall))\n",
        "  print('\\n\\n')"
      ],
      "metadata": {
        "id": "OkfOr4xlYay_",
        "colab": {
          "base_uri": "https://localhost:8080/"
        },
        "outputId": "6a70bf11-599f-4957-b8b8-8e6a09d3518a"
      },
      "execution_count": null,
      "outputs": [
        {
          "output_type": "stream",
          "name": "stdout",
          "text": [
            "Calculated Class Weights: [2.22872996 0.64461484]\n",
            "\n",
            "\n",
            " Logistic Regression \n",
            "\n",
            "\n",
            "              precision    recall  f1-score   support\n",
            "\n",
            "           0       0.63      0.82      0.72       280\n",
            "           1       0.94      0.85      0.90       926\n",
            "\n",
            "    accuracy                           0.85      1206\n",
            "   macro avg       0.79      0.84      0.81      1206\n",
            "weighted avg       0.87      0.85      0.85      1206\n",
            "\n",
            "ROC AUC:  0.9241746374575748\n",
            "Precision/Recall AUC:  0.18608178509898315\n",
            "\n",
            "\n",
            "\n",
            "\n",
            "\n",
            " SVM \n",
            "\n",
            "\n",
            "              precision    recall  f1-score   support\n",
            "\n",
            "           0       0.71      0.70      0.71       280\n",
            "           1       0.91      0.92      0.91       926\n",
            "\n",
            "    accuracy                           0.86      1206\n",
            "   macro avg       0.81      0.81      0.81      1206\n",
            "weighted avg       0.86      0.86      0.86      1206\n",
            "\n",
            "ROC AUC:  0.9251079913606912\n",
            "Precision/Recall AUC:  0.17684216591558793\n",
            "\n",
            "\n",
            "\n",
            "\n",
            "\n",
            " Decision Tree \n",
            "\n",
            "\n",
            "              precision    recall  f1-score   support\n",
            "\n",
            "           0       0.37      0.68      0.48       280\n",
            "           1       0.87      0.65      0.75       926\n",
            "\n",
            "    accuracy                           0.66      1206\n",
            "   macro avg       0.62      0.67      0.61      1206\n",
            "weighted avg       0.76      0.66      0.68      1206\n",
            "\n",
            "ROC AUC:  0.6939775532243133\n",
            "Precision/Recall AUC:  0.1275919868647376\n",
            "\n",
            "\n",
            "\n",
            "\n",
            "\n",
            " Random Forest \n",
            "\n",
            "\n",
            "              precision    recall  f1-score   support\n",
            "\n",
            "           0       0.43      0.72      0.54       280\n",
            "           1       0.90      0.71      0.79       926\n",
            "\n",
            "    accuracy                           0.72      1206\n",
            "   macro avg       0.66      0.72      0.67      1206\n",
            "weighted avg       0.79      0.72      0.74      1206\n",
            "\n",
            "ROC AUC:  0.7912044893551373\n",
            "Precision/Recall AUC:  0.146587079003829\n",
            "\n",
            "\n",
            "\n"
          ]
        }
      ]
    },
    {
      "cell_type": "markdown",
      "source": [
        "4. (b) (2.5) Based on your output and the business case, which model should Macy's use to predict customer sentiment? Why? Is this the same model you recommended in 3(b)? Explain."
      ],
      "metadata": {
        "id": "FkZ7ZaYaZGz2"
      }
    },
    {
      "cell_type": "markdown",
      "source": [
        "In this allowed class weights models again SVM performed better than all other models and it even performed better than first output we had in the question #3. And yes we again recommending the same model that we recommended in the question #3(b).\n"
      ],
      "metadata": {
        "id": "Zy94EKIFblao"
      }
    },
    {
      "cell_type": "markdown",
      "source": [
        "<hr>"
      ],
      "metadata": {
        "id": "jNYipvJQonwZ"
      }
    }
  ]
}