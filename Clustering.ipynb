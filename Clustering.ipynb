{
  "nbformat": 4,
  "nbformat_minor": 0,
  "metadata": {
    "colab": {
      "provenance": []
    },
    "kernelspec": {
      "name": "python3",
      "display_name": "Python 3"
    },
    "language_info": {
      "name": "python"
    }
  },
  "cells": [
    {
      "cell_type": "markdown",
      "source": [
        "## Prerequisite Code"
      ],
      "metadata": {
        "id": "1NApcFUYjX8g"
      }
    },
    {
      "cell_type": "code",
      "source": [
        "!pip install wikipedia\n",
        "import wikipedia\n",
        "import pandas as pd\n",
        "import matplotlib.pyplot as plt\n",
        "from sklearn.feature_extraction.text import TfidfVectorizer\n",
        "from sklearn.cluster import KMeans, AgglomerativeClustering\n",
        "from scipy.cluster.hierarchy import ward, dendrogram\n",
        "from sklearn.metrics.pairwise import cosine_similarity"
      ],
      "metadata": {
        "id": "6_VVawXTjbJO",
        "colab": {
          "base_uri": "https://localhost:8080/"
        },
        "outputId": "dc6b4f32-34ef-447c-a41a-6627ffa29472"
      },
      "execution_count": null,
      "outputs": [
        {
          "output_type": "stream",
          "name": "stdout",
          "text": [
            "Collecting wikipedia\n",
            "  Downloading wikipedia-1.4.0.tar.gz (27 kB)\n",
            "  Preparing metadata (setup.py) ... \u001b[?25l\u001b[?25hdone\n",
            "Requirement already satisfied: beautifulsoup4 in /usr/local/lib/python3.10/dist-packages (from wikipedia) (4.12.3)\n",
            "Requirement already satisfied: requests<3.0.0,>=2.0.0 in /usr/local/lib/python3.10/dist-packages (from wikipedia) (2.32.3)\n",
            "Requirement already satisfied: charset-normalizer<4,>=2 in /usr/local/lib/python3.10/dist-packages (from requests<3.0.0,>=2.0.0->wikipedia) (3.4.0)\n",
            "Requirement already satisfied: idna<4,>=2.5 in /usr/local/lib/python3.10/dist-packages (from requests<3.0.0,>=2.0.0->wikipedia) (3.10)\n",
            "Requirement already satisfied: urllib3<3,>=1.21.1 in /usr/local/lib/python3.10/dist-packages (from requests<3.0.0,>=2.0.0->wikipedia) (2.2.3)\n",
            "Requirement already satisfied: certifi>=2017.4.17 in /usr/local/lib/python3.10/dist-packages (from requests<3.0.0,>=2.0.0->wikipedia) (2024.8.30)\n",
            "Requirement already satisfied: soupsieve>1.2 in /usr/local/lib/python3.10/dist-packages (from beautifulsoup4->wikipedia) (2.6)\n",
            "Building wheels for collected packages: wikipedia\n",
            "  Building wheel for wikipedia (setup.py) ... \u001b[?25l\u001b[?25hdone\n",
            "  Created wheel for wikipedia: filename=wikipedia-1.4.0-py3-none-any.whl size=11679 sha256=8bc9dcc77d40928b3c57153401ac940f2277d45c287316902a8e1c066a8d527a\n",
            "  Stored in directory: /root/.cache/pip/wheels/5e/b6/c5/93f3dec388ae76edc830cb42901bb0232504dfc0df02fc50de\n",
            "Successfully built wikipedia\n",
            "Installing collected packages: wikipedia\n",
            "Successfully installed wikipedia-1.4.0\n"
          ]
        }
      ]
    },
    {
      "cell_type": "markdown",
      "source": [
        "\n",
        "\n",
        "---\n",
        "\n"
      ],
      "metadata": {
        "id": "dd2WmJKtn_z3"
      }
    },
    {
      "cell_type": "markdown",
      "source": [
        "## Questions:\n",
        "\n",
        "1. (2.5) In this assignment, you will use the wikipedia page content for the 40 pages below to perform cluster analysis. The pages can be grouped into 4 general topics: artificial intelligence, sports, college courses/majors, and animals. First, run the code line below to create the topics object. Then, develop a dataset containing the content from the respective Wikipedia pages and prepare the TF-IDF-weighted Document Term Matrix.\n"
      ],
      "metadata": {
        "id": "pirkUREjEHAe"
      }
    },
    {
      "cell_type": "code",
      "source": [
        "topics = ['data science','business analytics', 'artificial intelligence','computational statistics', 'linguistics', 'expert systems', 'natural language processing', 'motion analysis', 'basketball', 'swimming','diving', 'baseball', 'football', 'soccer', 'hockey', 'gymnastics', 'lacrosse', 'operations management', 'marketing', 'economics', 'mathematics', 'biology', 'chemistry', 'statistics', 'computer science', 'engineering', 'zebra', 'dolphin', 'whale', 'horse', 'sheep', 'monkey', 'kangaroo', 'leopard', 'tiger', 'wolf', 'snake', 'frog', 'hedgehog']"
      ],
      "metadata": {
        "id": "T9-5ebRAdynQ"
      },
      "execution_count": null,
      "outputs": []
    },
    {
      "cell_type": "code",
      "metadata": {
        "id": "_cSFtMtMsn6x",
        "colab": {
          "base_uri": "https://localhost:8080/"
        },
        "outputId": "32df2158-2ef2-4c8a-d13f-1de31543c95f"
      },
      "source": [
        "wikipedia_list=[]\n",
        "for topic in topics:\n",
        "   print(\"retrieving: \", topic)\n",
        "   wikipedia_list.append(wikipedia.page(topic).content)\n",
        "\n",
        "vectorizer = TfidfVectorizer(stop_words='english')\n",
        "X = vectorizer.fit_transform(wikipedia_list)"
      ],
      "execution_count": null,
      "outputs": [
        {
          "output_type": "stream",
          "name": "stdout",
          "text": [
            "retrieving:  data science\n",
            "retrieving:  business analytics\n",
            "retrieving:  artificial intelligence\n",
            "retrieving:  computational statistics\n",
            "retrieving:  linguistics\n",
            "retrieving:  expert systems\n",
            "retrieving:  natural language processing\n",
            "retrieving:  motion analysis\n",
            "retrieving:  basketball\n",
            "retrieving:  swimming\n",
            "retrieving:  diving\n",
            "retrieving:  baseball\n",
            "retrieving:  football\n",
            "retrieving:  soccer\n",
            "retrieving:  hockey\n",
            "retrieving:  gymnastics\n",
            "retrieving:  lacrosse\n",
            "retrieving:  operations management\n",
            "retrieving:  marketing\n",
            "retrieving:  economics\n",
            "retrieving:  mathematics\n",
            "retrieving:  biology\n",
            "retrieving:  chemistry\n",
            "retrieving:  statistics\n",
            "retrieving:  computer science\n",
            "retrieving:  engineering\n",
            "retrieving:  zebra\n",
            "retrieving:  dolphin\n",
            "retrieving:  whale\n",
            "retrieving:  horse\n",
            "retrieving:  sheep\n",
            "retrieving:  monkey\n",
            "retrieving:  kangaroo\n",
            "retrieving:  leopard\n",
            "retrieving:  tiger\n",
            "retrieving:  wolf\n",
            "retrieving:  snake\n",
            "retrieving:  frog\n",
            "retrieving:  hedgehog\n"
          ]
        }
      ]
    },
    {
      "cell_type": "markdown",
      "source": [
        "\n",
        "\n",
        "---\n",
        "\n",
        "<br>\n",
        "\n",
        "2. (a) (3) Perform elbow analysis on the TF-IDF vectorized dataset. In your plot, consider a minimum of 2 clusters and a maximum of 15 clusters. For reproducible results, set the `random_state` argument in `KMeans()` to 123."
      ],
      "metadata": {
        "id": "PzXk7L--EUn8"
      }
    },
    {
      "cell_type": "code",
      "source": [
        "Sum_of_squared_distances = []\n",
        "K = range(2, 16)\n",
        "for k in K:\n",
        "    km = KMeans(n_clusters=k, max_iter=200, n_init=10, random_state=123)\n",
        "    km = km.fit(X)\n",
        "    Sum_of_squared_distances.append(km.inertia_)\n",
        "plt.plot(K, Sum_of_squared_distances, 'bx-')\n",
        "plt.xlabel('k')\n",
        "plt.ylabel('Sum_of_squared_distances')\n",
        "plt.title('Elbow Method For Optimal k')\n",
        "plt.show()"
      ],
      "metadata": {
        "id": "OZUYPM-BEar8",
        "colab": {
          "base_uri": "https://localhost:8080/",
          "height": 472
        },
        "outputId": "edc4689f-1a81-44e9-94df-69a1ef72ae72"
      },
      "execution_count": null,
      "outputs": [
        {
          "output_type": "display_data",
          "data": {
            "text/plain": [
              "<Figure size 640x480 with 1 Axes>"
            ],
            "image/png": "[encoded data removed]"
          },
          "metadata": {}
        }
      ]
    },
    {
      "cell_type": "markdown",
      "source": [
        "<hr>\n",
        "<br>\n",
        "\n",
        "2. (b) (3) Based on the plot, how many clusters should there be? Does this value of k align with the expected number of groups? Explain."
      ],
      "metadata": {
        "id": "2_Dm05Ui-pcP"
      }
    },
    {
      "cell_type": "markdown",
      "source": [
        "There should be 4 clusters. So yes, the value of K align with the expected number of groups that we mentioned above in the assignment (artificial intelligence, sports, college majors/courses, and animals.). How we verify the cluster is to check the plot above and see where the line flatters."
      ],
      "metadata": {
        "id": "izbgWr16-rVt"
      }
    },
    {
      "cell_type": "markdown",
      "source": [
        "<hr>\n",
        "<br>\n",
        "\n",
        "3. (a) (2.5) Develop a KMeans clustering solution using the expected number of groups as k."
      ],
      "metadata": {
        "id": "holx0VloEbMz"
      }
    },
    {
      "cell_type": "code",
      "source": [
        "true_k = 4\n",
        "model = KMeans(n_clusters=true_k, init='k-means++', max_iter=200, n_init=10, random_state=123)\n",
        "model.fit(X)\n",
        "\n",
        "labels = model.labels_\n",
        "wiki_cl = pd.DataFrame(list(zip(topics, labels)), columns=['topics', 'cluster'])\n",
        "print(wiki_cl.sort_values(by=['cluster']))"
      ],
      "metadata": {
        "id": "3pBku3fEEggf",
        "colab": {
          "base_uri": "https://localhost:8080/"
        },
        "outputId": "933b788a-6cb9-4ea0-e88b-fa61025851d4"
      },
      "execution_count": null,
      "outputs": [
        {
          "output_type": "stream",
          "name": "stdout",
          "text": [
            "                         topics  cluster\n",
            "0                  data science        0\n",
            "3      computational statistics        0\n",
            "6   natural language processing        0\n",
            "24             computer science        0\n",
            "23                   statistics        0\n",
            "20                  mathematics        0\n",
            "35                         wolf        1\n",
            "31                       monkey        1\n",
            "29                        horse        1\n",
            "26                        zebra        1\n",
            "25                  engineering        1\n",
            "22                    chemistry        1\n",
            "21                      biology        1\n",
            "18                    marketing        1\n",
            "17        operations management        1\n",
            "19                    economics        1\n",
            "2       artificial intelligence        1\n",
            "4                   linguistics        1\n",
            "1            business analytics        1\n",
            "10                       diving        1\n",
            "9                      swimming        1\n",
            "5                expert systems        1\n",
            "7               motion analysis        1\n",
            "16                     lacrosse        2\n",
            "30                        sheep        2\n",
            "15                   gymnastics        2\n",
            "8                    basketball        2\n",
            "11                     baseball        2\n",
            "12                     football        2\n",
            "13                       soccer        2\n",
            "14                       hockey        2\n",
            "33                      leopard        2\n",
            "36                        snake        3\n",
            "34                        tiger        3\n",
            "27                      dolphin        3\n",
            "28                        whale        3\n",
            "37                         frog        3\n",
            "32                     kangaroo        3\n",
            "38                     hedgehog        3\n"
          ]
        }
      ]
    },
    {
      "cell_type": "markdown",
      "source": [
        "3. (b) (3) Does the KMeans clustering solution assign the expected cluster memberships to the documents? Explain."
      ],
      "metadata": {
        "id": "Z7f7cnmR3KfT"
      }
    },
    {
      "cell_type": "markdown",
      "source": [
        "No, it does not. Because once we look at the column of the cluster above we see that sheep and gymnastics belong to same cluster number. Since we have 4 main groups sheep and gymnastics can't be in the same group."
      ],
      "metadata": {
        "id": "-MMPo4bt3Ude"
      }
    },
    {
      "cell_type": "markdown",
      "source": [
        "<hr>"
      ],
      "metadata": {
        "id": "xpizOBQ0oX24"
      }
    },
    {
      "cell_type": "markdown",
      "source": [
        "4. (a) (3) Next, you will perform hierachical clustering. By default, `AgglomerativeClustering()` sets k = 2 (`n_clusters = 2`). Instead, set the `n_clusters` argument equal to the expected number of clusters. View cluster membership output as a dataframe."
      ],
      "metadata": {
        "id": "NIEXdhgCEhN0"
      }
    },
    {
      "cell_type": "code",
      "source": [
        "true_k = 4\n",
        "\n",
        "# Perform Agglomerative Clustering\n",
        "hierarchical_model = AgglomerativeClustering(n_clusters=true_k, linkage='ward', metric='euclidean')\n",
        "hierarchical_labels = hierarchical_model.fit_predict(X.toarray())\n",
        "\n",
        "hierarchical_cl = pd.DataFrame(list(zip(topics, hierarchical_labels)), columns=['topics', 'cluster'])\n",
        "print(hierarchical_cl.sort_values(by=['cluster']))"
      ],
      "metadata": {
        "id": "xWAbl6aY3gX2",
        "colab": {
          "base_uri": "https://localhost:8080/"
        },
        "outputId": "4c4cbf9c-8467-4db6-c1aa-78e8eef12744"
      },
      "execution_count": null,
      "outputs": [
        {
          "output_type": "stream",
          "name": "stdout",
          "text": [
            "                         topics  cluster\n",
            "0                  data science        0\n",
            "23                   statistics        0\n",
            "20                  mathematics        0\n",
            "24             computer science        0\n",
            "6   natural language processing        0\n",
            "25                  engineering        0\n",
            "4                   linguistics        0\n",
            "2       artificial intelligence        0\n",
            "5                expert systems        0\n",
            "3      computational statistics        0\n",
            "16                     lacrosse        1\n",
            "14                       hockey        1\n",
            "13                       soccer        1\n",
            "12                     football        1\n",
            "8                    basketball        1\n",
            "11                     baseball        1\n",
            "33                      leopard        2\n",
            "34                        tiger        2\n",
            "30                        sheep        2\n",
            "29                        horse        2\n",
            "28                        whale        2\n",
            "35                         wolf        2\n",
            "27                      dolphin        2\n",
            "26                        zebra        2\n",
            "36                        snake        2\n",
            "32                     kangaroo        2\n",
            "38                     hedgehog        2\n",
            "21                      biology        2\n",
            "37                         frog        2\n",
            "15                   gymnastics        2\n",
            "10                       diving        2\n",
            "9                      swimming        2\n",
            "7               motion analysis        2\n",
            "22                    chemistry        2\n",
            "18                    marketing        3\n",
            "17        operations management        3\n",
            "31                       monkey        3\n",
            "1            business analytics        3\n",
            "19                    economics        3\n"
          ]
        }
      ]
    },
    {
      "cell_type": "markdown",
      "source": [
        "4. (b) (3) Do the clusters created using hierarchical cluster analysis align with the expected results? Explain."
      ],
      "metadata": {
        "id": "WxjMCjmc3j-Y"
      }
    },
    {
      "cell_type": "markdown",
      "source": [
        "Even though hierarchical cluster analysis slightly looks better than Kmeans clustering the answer is No. Since again when we check the result for example monkey and business analytics are in the same group which not correct."
      ],
      "metadata": {
        "id": "Mpq-P-jxEpMC"
      }
    },
    {
      "cell_type": "markdown",
      "source": [
        "<hr>"
      ],
      "metadata": {
        "id": "jNYipvJQonwZ"
      }
    }
  ]
}